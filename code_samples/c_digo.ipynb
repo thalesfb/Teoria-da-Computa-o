{
  "cells": [
    {
      "cell_type": "markdown",
      "metadata": {
        "colab_type": "text",
        "id": "view-in-github"
      },
      "source": [
        "<a href=\"https://colab.research.google.com/github/thalesfb/Teoria-da-Computacao/blob/main/c_digo.ipynb\" target=\"_parent\"><img src=\"https://colab.research.google.com/assets/colab-badge.svg\" alt=\"Open In Colab\"/></a>"
      ]
    },
    {
      "cell_type": "code",
      "execution_count": 12,
      "metadata": {
        "colab": {
          "base_uri": "https://localhost:8080/"
        },
        "id": "0taskZPtWVzS",
        "outputId": "2d5cd479-38e8-4e79-fac6-cf8743d6e1c9"
      },
      "outputs": [
        {
          "name": "stdout",
          "output_type": "stream",
          "text": [
            "Requirement already satisfied: big-O-calculator in c:\\users\\winn\\appdata\\local\\packages\\pythonsoftwarefoundation.python.3.11_qbz5n2kfra8p0\\localcache\\local-packages\\python311\\site-packages (0.0.9.8.4)\n",
            "Requirement already satisfied: win10toast in c:\\users\\winn\\appdata\\local\\packages\\pythonsoftwarefoundation.python.3.11_qbz5n2kfra8p0\\localcache\\local-packages\\python311\\site-packages (from big-O-calculator) (0.9)\n",
            "Requirement already satisfied: pypiwin32 in c:\\users\\winn\\appdata\\local\\packages\\pythonsoftwarefoundation.python.3.11_qbz5n2kfra8p0\\localcache\\local-packages\\python311\\site-packages (from win10toast->big-O-calculator) (223)\n",
            "Requirement already satisfied: setuptools in c:\\program files\\windowsapps\\pythonsoftwarefoundation.python.3.11_3.11.1776.0_x64__qbz5n2kfra8p0\\lib\\site-packages (from win10toast->big-O-calculator) (65.5.0)\n",
            "Requirement already satisfied: pywin32>=223 in c:\\users\\winn\\appdata\\local\\packages\\pythonsoftwarefoundation.python.3.11_qbz5n2kfra8p0\\localcache\\local-packages\\python311\\site-packages (from pypiwin32->win10toast->big-O-calculator) (306)\n",
            "Note: you may need to restart the kernel to use updated packages.\n"
          ]
        }
      ],
      "source": [
        "%pip install big-O-calculator\n",
        "\n",
        "from bigO import BigO\n",
        "import timeit\n"
      ]
    },
    {
      "cell_type": "code",
      "execution_count": 13,
      "metadata": {
        "id": "ceSXukwSUeRZ"
      },
      "outputs": [],
      "source": [
        "def sum_v1(n):\n",
        "  result = 0\n",
        "  for i in range(0,n):\n",
        "    result += i\n",
        "  return result"
      ]
    },
    {
      "cell_type": "code",
      "execution_count": 14,
      "metadata": {
        "id": "AddVvqe3VSNh"
      },
      "outputs": [],
      "source": [
        "def sum_v2(n):\n",
        "  return (n * (n + 1)) // 2"
      ]
    },
    {
      "cell_type": "code",
      "execution_count": 15,
      "metadata": {
        "id": "qKGu-DTsW5J_"
      },
      "outputs": [
        {
          "name": "stdout",
          "output_type": "stream",
          "text": [
            "Collecting plotly\n",
            "  Downloading plotly-5.18.0-py3-none-any.whl.metadata (7.0 kB)\n",
            "Collecting tenacity>=6.2.0 (from plotly)\n",
            "  Downloading tenacity-8.2.3-py3-none-any.whl.metadata (1.0 kB)\n",
            "Requirement already satisfied: packaging in c:\\users\\winn\\appdata\\local\\packages\\pythonsoftwarefoundation.python.3.11_qbz5n2kfra8p0\\localcache\\local-packages\\python311\\site-packages (from plotly) (23.2)\n",
            "Downloading plotly-5.18.0-py3-none-any.whl (15.6 MB)\n",
            "   ---------------------------------------- 0.0/15.6 MB ? eta -:--:--\n",
            "   ---------------------------------------- 0.2/15.6 MB 9.0 MB/s eta 0:00:02\n",
            "   - -------------------------------------- 0.5/15.6 MB 6.0 MB/s eta 0:00:03\n",
            "   -- ------------------------------------- 0.9/15.6 MB 7.7 MB/s eta 0:00:02\n",
            "   -- ------------------------------------- 1.0/15.6 MB 7.3 MB/s eta 0:00:02\n",
            "   -- ------------------------------------- 1.0/15.6 MB 7.3 MB/s eta 0:00:02\n",
            "   -- ------------------------------------- 1.0/15.6 MB 7.3 MB/s eta 0:00:02\n",
            "   ---- ----------------------------------- 1.7/15.6 MB 5.3 MB/s eta 0:00:03\n",
            "   ----- ---------------------------------- 2.1/15.6 MB 6.3 MB/s eta 0:00:03\n",
            "   ----- ---------------------------------- 2.1/15.6 MB 6.3 MB/s eta 0:00:03\n",
            "   ----- ---------------------------------- 2.2/15.6 MB 4.8 MB/s eta 0:00:03\n",
            "   ------- -------------------------------- 3.1/15.6 MB 6.1 MB/s eta 0:00:03\n",
            "   -------- ------------------------------- 3.1/15.6 MB 6.3 MB/s eta 0:00:02\n",
            "   -------- ------------------------------- 3.1/15.6 MB 6.3 MB/s eta 0:00:02\n",
            "   -------- ------------------------------- 3.2/15.6 MB 5.0 MB/s eta 0:00:03\n",
            "   ---------- ----------------------------- 4.0/15.6 MB 5.8 MB/s eta 0:00:03\n",
            "   ---------- ----------------------------- 4.2/15.6 MB 5.8 MB/s eta 0:00:02\n",
            "   ---------- ----------------------------- 4.2/15.6 MB 5.8 MB/s eta 0:00:02\n",
            "   ---------- ----------------------------- 4.2/15.6 MB 5.8 MB/s eta 0:00:02\n",
            "   ---------- ----------------------------- 4.2/15.6 MB 5.8 MB/s eta 0:00:02\n",
            "   ---------- ----------------------------- 4.2/15.6 MB 5.8 MB/s eta 0:00:02\n",
            "   ----------- ---------------------------- 4.6/15.6 MB 4.9 MB/s eta 0:00:03\n",
            "   ------------- -------------------------- 5.2/15.6 MB 5.3 MB/s eta 0:00:02\n",
            "   ------------- -------------------------- 5.2/15.6 MB 5.3 MB/s eta 0:00:02\n",
            "   -------------- ------------------------- 5.6/15.6 MB 5.1 MB/s eta 0:00:02\n",
            "   ---------------- ----------------------- 6.3/15.6 MB 5.5 MB/s eta 0:00:02\n",
            "   ---------------- ----------------------- 6.3/15.6 MB 5.5 MB/s eta 0:00:02\n",
            "   ---------------- ----------------------- 6.3/15.6 MB 5.5 MB/s eta 0:00:02\n",
            "   ----------------- ---------------------- 6.7/15.6 MB 5.2 MB/s eta 0:00:02\n",
            "   ------------------ --------------------- 7.3/15.6 MB 5.5 MB/s eta 0:00:02\n",
            "   ------------------ --------------------- 7.3/15.6 MB 5.5 MB/s eta 0:00:02\n",
            "   ------------------- -------------------- 7.6/15.6 MB 5.2 MB/s eta 0:00:02\n",
            "   -------------------- ------------------- 8.2/15.6 MB 5.5 MB/s eta 0:00:02\n",
            "   --------------------- ------------------ 8.4/15.6 MB 5.5 MB/s eta 0:00:02\n",
            "   --------------------- ------------------ 8.4/15.6 MB 5.5 MB/s eta 0:00:02\n",
            "   --------------------- ------------------ 8.4/15.6 MB 5.5 MB/s eta 0:00:02\n",
            "   --------------------- ------------------ 8.4/15.6 MB 5.5 MB/s eta 0:00:02\n",
            "   --------------------- ------------------ 8.4/15.6 MB 5.5 MB/s eta 0:00:02\n",
            "   --------------------- ------------------ 8.4/15.6 MB 5.5 MB/s eta 0:00:02\n",
            "   --------------------- ------------------ 8.4/15.6 MB 5.5 MB/s eta 0:00:02\n",
            "   --------------------- ------------------ 8.4/15.6 MB 5.5 MB/s eta 0:00:02\n",
            "   --------------------- ------------------ 8.4/15.6 MB 5.5 MB/s eta 0:00:02\n",
            "   --------------------- ------------------ 8.4/15.6 MB 4.3 MB/s eta 0:00:02\n",
            "   ----------------------- ---------------- 9.0/15.6 MB 4.5 MB/s eta 0:00:02\n",
            "   ------------------------ --------------- 9.4/15.6 MB 4.6 MB/s eta 0:00:02\n",
            "   ------------------------ --------------- 9.4/15.6 MB 4.6 MB/s eta 0:00:02\n",
            "   ------------------------ --------------- 9.4/15.6 MB 4.6 MB/s eta 0:00:02\n",
            "   ------------------------ --------------- 9.4/15.6 MB 4.6 MB/s eta 0:00:02\n",
            "   ------------------------ --------------- 9.4/15.6 MB 4.6 MB/s eta 0:00:02\n",
            "   ------------------------ --------------- 9.4/15.6 MB 4.6 MB/s eta 0:00:02\n",
            "   ------------------------ --------------- 9.4/15.6 MB 4.6 MB/s eta 0:00:02\n",
            "   ------------------------ --------------- 9.4/15.6 MB 4.6 MB/s eta 0:00:02\n",
            "   ------------------------ --------------- 9.4/15.6 MB 4.6 MB/s eta 0:00:02\n",
            "   ------------------------ --------------- 9.4/15.6 MB 4.6 MB/s eta 0:00:02\n",
            "   ------------------------ --------------- 9.4/15.6 MB 4.6 MB/s eta 0:00:02\n",
            "   ------------------------ --------------- 9.4/15.6 MB 4.6 MB/s eta 0:00:02\n",
            "   ------------------------ --------------- 9.4/15.6 MB 4.6 MB/s eta 0:00:02\n",
            "   ------------------------ --------------- 9.4/15.6 MB 4.6 MB/s eta 0:00:02\n",
            "   ------------------------ --------------- 9.4/15.6 MB 4.6 MB/s eta 0:00:02\n",
            "   ------------------------ --------------- 9.4/15.6 MB 4.6 MB/s eta 0:00:02\n",
            "   ------------------------ --------------- 9.4/15.6 MB 4.6 MB/s eta 0:00:02\n",
            "   ------------------------ --------------- 9.4/15.6 MB 4.6 MB/s eta 0:00:02\n",
            "   ------------------------ --------------- 9.4/15.6 MB 4.6 MB/s eta 0:00:02\n",
            "   ------------------------ --------------- 9.4/15.6 MB 4.6 MB/s eta 0:00:02\n",
            "   ------------------------ --------------- 9.4/15.6 MB 4.6 MB/s eta 0:00:02\n",
            "   ------------------------ --------------- 9.4/15.6 MB 4.6 MB/s eta 0:00:02\n",
            "   ------------------------ --------------- 9.4/15.6 MB 4.6 MB/s eta 0:00:02\n",
            "   ------------------------ --------------- 9.4/15.6 MB 4.6 MB/s eta 0:00:02\n",
            "   ------------------------ --------------- 9.4/15.6 MB 4.6 MB/s eta 0:00:02\n",
            "   ------------------------ --------------- 9.4/15.6 MB 4.6 MB/s eta 0:00:02\n",
            "   ------------------------ --------------- 9.4/15.6 MB 4.6 MB/s eta 0:00:02\n",
            "   ------------------------ --------------- 9.4/15.6 MB 4.6 MB/s eta 0:00:02\n",
            "   ------------------------- -------------- 9.9/15.6 MB 2.9 MB/s eta 0:00:02\n",
            "   -------------------------- ------------- 10.5/15.6 MB 3.0 MB/s eta 0:00:02\n",
            "   -------------------------- ------------- 10.5/15.6 MB 3.0 MB/s eta 0:00:02\n",
            "   -------------------------- ------------- 10.5/15.6 MB 3.0 MB/s eta 0:00:02\n",
            "   -------------------------- ------------- 10.5/15.6 MB 3.0 MB/s eta 0:00:02\n",
            "   --------------------------- ------------ 10.8/15.6 MB 2.9 MB/s eta 0:00:02\n",
            "   ----------------------------- ---------- 11.5/15.6 MB 3.0 MB/s eta 0:00:02\n",
            "   ----------------------------- ---------- 11.5/15.6 MB 3.0 MB/s eta 0:00:02\n",
            "   ----------------------------- ---------- 11.5/15.6 MB 3.0 MB/s eta 0:00:02\n",
            "   ----------------------------- ---------- 11.5/15.6 MB 3.0 MB/s eta 0:00:02\n",
            "   ----------------------------- ---------- 11.5/15.6 MB 3.0 MB/s eta 0:00:02\n",
            "   ----------------------------- ---------- 11.5/15.6 MB 3.0 MB/s eta 0:00:02\n",
            "   ----------------------------- ---------- 11.5/15.6 MB 3.0 MB/s eta 0:00:02\n",
            "   ----------------------------- ---------- 11.6/15.6 MB 2.8 MB/s eta 0:00:02\n",
            "   ------------------------------ --------- 12.0/15.6 MB 2.7 MB/s eta 0:00:02\n",
            "   -------------------------------- ------- 12.6/15.6 MB 2.8 MB/s eta 0:00:02\n",
            "   -------------------------------- ------- 12.6/15.6 MB 2.8 MB/s eta 0:00:02\n",
            "   -------------------------------- ------- 12.6/15.6 MB 2.8 MB/s eta 0:00:02\n",
            "   -------------------------------- ------- 12.6/15.6 MB 2.8 MB/s eta 0:00:02\n",
            "   -------------------------------- ------- 12.6/15.6 MB 2.8 MB/s eta 0:00:02\n",
            "   -------------------------------- ------- 12.6/15.6 MB 2.8 MB/s eta 0:00:02\n",
            "   -------------------------------- ------- 12.6/15.6 MB 2.8 MB/s eta 0:00:02\n",
            "   -------------------------------- ------- 12.6/15.6 MB 2.8 MB/s eta 0:00:02\n",
            "   -------------------------------- ------- 12.6/15.6 MB 2.8 MB/s eta 0:00:02\n",
            "   -------------------------------- ------- 12.6/15.6 MB 2.8 MB/s eta 0:00:02\n",
            "   -------------------------------- ------- 12.6/15.6 MB 2.8 MB/s eta 0:00:02\n",
            "   -------------------------------- ------- 12.6/15.6 MB 2.8 MB/s eta 0:00:02\n",
            "   -------------------------------- ------- 12.6/15.6 MB 2.8 MB/s eta 0:00:02\n",
            "   -------------------------------- ------- 12.6/15.6 MB 2.8 MB/s eta 0:00:02\n",
            "   -------------------------------- ------- 12.6/15.6 MB 2.8 MB/s eta 0:00:02\n",
            "   -------------------------------- ------- 12.6/15.6 MB 2.8 MB/s eta 0:00:02\n",
            "   -------------------------------- ------- 12.6/15.6 MB 2.8 MB/s eta 0:00:02\n",
            "   -------------------------------- ------- 12.6/15.6 MB 2.8 MB/s eta 0:00:02\n",
            "   -------------------------------- ------- 12.6/15.6 MB 2.8 MB/s eta 0:00:02\n",
            "   -------------------------------- ------- 12.6/15.6 MB 2.8 MB/s eta 0:00:02\n",
            "   -------------------------------- ------- 12.6/15.6 MB 2.8 MB/s eta 0:00:02\n",
            "   -------------------------------- ------- 12.6/15.6 MB 2.8 MB/s eta 0:00:02\n",
            "   -------------------------------- ------- 12.6/15.6 MB 2.8 MB/s eta 0:00:02\n",
            "   -------------------------------- ------- 12.6/15.6 MB 2.8 MB/s eta 0:00:02\n",
            "   -------------------------------- ------- 12.6/15.6 MB 2.8 MB/s eta 0:00:02\n",
            "   -------------------------------- ------- 12.6/15.6 MB 2.8 MB/s eta 0:00:02\n",
            "   -------------------------------- ------- 12.6/15.6 MB 2.8 MB/s eta 0:00:02\n",
            "   -------------------------------- ------- 12.6/15.6 MB 2.8 MB/s eta 0:00:02\n",
            "   -------------------------------- ------- 12.6/15.6 MB 2.8 MB/s eta 0:00:02\n",
            "   -------------------------------- ------- 12.6/15.6 MB 2.8 MB/s eta 0:00:02\n",
            "   --------------------------------- ------ 13.0/15.6 MB 2.0 MB/s eta 0:00:02\n",
            "   ---------------------------------- ----- 13.6/15.6 MB 2.1 MB/s eta 0:00:01\n",
            "   ---------------------------------- ----- 13.6/15.6 MB 2.1 MB/s eta 0:00:01\n",
            "   ---------------------------------- ----- 13.6/15.6 MB 2.1 MB/s eta 0:00:01\n",
            "   ---------------------------------- ----- 13.6/15.6 MB 2.1 MB/s eta 0:00:01\n",
            "   ---------------------------------- ----- 13.6/15.6 MB 2.1 MB/s eta 0:00:01\n",
            "   ---------------------------------- ----- 13.6/15.6 MB 2.1 MB/s eta 0:00:01\n",
            "   ---------------------------------- ----- 13.6/15.6 MB 2.1 MB/s eta 0:00:01\n",
            "   ---------------------------------- ----- 13.6/15.6 MB 2.1 MB/s eta 0:00:01\n",
            "   ---------------------------------- ----- 13.6/15.6 MB 2.1 MB/s eta 0:00:01\n",
            "   ---------------------------------- ----- 13.6/15.6 MB 2.1 MB/s eta 0:00:01\n",
            "   ---------------------------------- ----- 13.6/15.6 MB 2.1 MB/s eta 0:00:01\n",
            "   ---------------------------------- ----- 13.6/15.6 MB 2.1 MB/s eta 0:00:01\n",
            "   ---------------------------------- ----- 13.6/15.6 MB 2.1 MB/s eta 0:00:01\n",
            "   ---------------------------------- ----- 13.6/15.6 MB 2.1 MB/s eta 0:00:01\n",
            "   ---------------------------------- ----- 13.6/15.6 MB 2.1 MB/s eta 0:00:01\n",
            "   ---------------------------------- ----- 13.6/15.6 MB 2.1 MB/s eta 0:00:01\n",
            "   ---------------------------------- ----- 13.6/15.6 MB 2.1 MB/s eta 0:00:01\n",
            "   ---------------------------------- ----- 13.6/15.6 MB 2.1 MB/s eta 0:00:01\n",
            "   ---------------------------------- ----- 13.6/15.6 MB 2.1 MB/s eta 0:00:01\n",
            "   ---------------------------------- ----- 13.6/15.6 MB 2.1 MB/s eta 0:00:01\n",
            "   ---------------------------------- ----- 13.6/15.6 MB 2.1 MB/s eta 0:00:01\n",
            "   ---------------------------------- ----- 13.6/15.6 MB 2.1 MB/s eta 0:00:01\n",
            "   ---------------------------------- ----- 13.6/15.6 MB 2.1 MB/s eta 0:00:01\n",
            "   ---------------------------------- ----- 13.6/15.6 MB 2.1 MB/s eta 0:00:01\n",
            "   ---------------------------------- ----- 13.6/15.6 MB 2.1 MB/s eta 0:00:01\n",
            "   ---------------------------------- ----- 13.6/15.6 MB 2.1 MB/s eta 0:00:01\n",
            "   ---------------------------------- ----- 13.6/15.6 MB 2.1 MB/s eta 0:00:01\n",
            "   ---------------------------------- ----- 13.6/15.6 MB 2.1 MB/s eta 0:00:01\n",
            "   ---------------------------------- ----- 13.6/15.6 MB 2.1 MB/s eta 0:00:01\n",
            "   ---------------------------------- ----- 13.6/15.6 MB 2.1 MB/s eta 0:00:01\n",
            "   ---------------------------------- ----- 13.6/15.6 MB 2.1 MB/s eta 0:00:01\n",
            "   ---------------------------------- ----- 13.6/15.6 MB 2.1 MB/s eta 0:00:01\n",
            "   ---------------------------------- ----- 13.6/15.6 MB 2.1 MB/s eta 0:00:01\n",
            "   ---------------------------------- ----- 13.6/15.6 MB 2.1 MB/s eta 0:00:01\n",
            "   ---------------------------------- ----- 13.6/15.6 MB 2.1 MB/s eta 0:00:01\n",
            "   ---------------------------------- ----- 13.6/15.6 MB 2.1 MB/s eta 0:00:01\n",
            "   ---------------------------------- ----- 13.6/15.6 MB 2.1 MB/s eta 0:00:01\n",
            "   ---------------------------------- ----- 13.6/15.6 MB 2.1 MB/s eta 0:00:01\n",
            "   ---------------------------------- ----- 13.6/15.6 MB 2.1 MB/s eta 0:00:01\n",
            "   ---------------------------------- ----- 13.6/15.6 MB 2.1 MB/s eta 0:00:01\n",
            "   ---------------------------------- ----- 13.6/15.6 MB 2.1 MB/s eta 0:00:01\n",
            "   ---------------------------------- ----- 13.6/15.6 MB 2.1 MB/s eta 0:00:01\n",
            "   ---------------------------------- ----- 13.6/15.6 MB 2.1 MB/s eta 0:00:01\n",
            "   ---------------------------------- ----- 13.6/15.6 MB 2.1 MB/s eta 0:00:01\n",
            "   ---------------------------------- ----- 13.6/15.6 MB 2.1 MB/s eta 0:00:01\n",
            "   ---------------------------------- ----- 13.6/15.6 MB 2.1 MB/s eta 0:00:01\n",
            "   ---------------------------------- ----- 13.6/15.6 MB 2.1 MB/s eta 0:00:01\n",
            "   ---------------------------------- ----- 13.6/15.6 MB 2.1 MB/s eta 0:00:01\n",
            "   ---------------------------------- ----- 13.6/15.6 MB 2.1 MB/s eta 0:00:01\n",
            "   ---------------------------------- ----- 13.6/15.6 MB 2.1 MB/s eta 0:00:01\n",
            "   ---------------------------------- ----- 13.6/15.6 MB 2.1 MB/s eta 0:00:01\n",
            "   ---------------------------------- ----- 13.6/15.6 MB 2.1 MB/s eta 0:00:01\n",
            "   ---------------------------------- ----- 13.6/15.6 MB 2.1 MB/s eta 0:00:01\n",
            "   ---------------------------------- ----- 13.6/15.6 MB 2.1 MB/s eta 0:00:01\n",
            "   ---------------------------------- ----- 13.6/15.6 MB 2.1 MB/s eta 0:00:01\n",
            "   ---------------------------------- ----- 13.6/15.6 MB 2.1 MB/s eta 0:00:01\n",
            "   ---------------------------------- ----- 13.6/15.6 MB 2.1 MB/s eta 0:00:01\n",
            "   ---------------------------------- ----- 13.6/15.6 MB 2.1 MB/s eta 0:00:01\n",
            "   ---------------------------------- ----- 13.6/15.6 MB 2.1 MB/s eta 0:00:01\n",
            "   ---------------------------------- ----- 13.6/15.6 MB 2.1 MB/s eta 0:00:01\n",
            "   ---------------------------------- ----- 13.6/15.6 MB 2.1 MB/s eta 0:00:01\n",
            "   ---------------------------------- ----- 13.6/15.6 MB 2.1 MB/s eta 0:00:01\n",
            "   ---------------------------------- ----- 13.6/15.6 MB 2.1 MB/s eta 0:00:01\n",
            "   ---------------------------------- ----- 13.6/15.6 MB 2.1 MB/s eta 0:00:01\n",
            "   ---------------------------------- ----- 13.6/15.6 MB 2.1 MB/s eta 0:00:01\n",
            "   ---------------------------------- ----- 13.6/15.6 MB 2.1 MB/s eta 0:00:01\n",
            "   ---------------------------------- ----- 13.6/15.6 MB 2.1 MB/s eta 0:00:01\n",
            "   ---------------------------------- ----- 13.6/15.6 MB 2.1 MB/s eta 0:00:01\n",
            "   ---------------------------------- ----- 13.6/15.6 MB 2.1 MB/s eta 0:00:01\n",
            "   ------------------------------------ --- 14.2/15.6 MB 1.2 MB/s eta 0:00:02\n",
            "   -------------------------------------- - 15.1/15.6 MB 1.3 MB/s eta 0:00:01\n",
            "   ---------------------------------------  15.4/15.6 MB 1.3 MB/s eta 0:00:01\n",
            "   ---------------------------------------  15.6/15.6 MB 1.3 MB/s eta 0:00:01\n",
            "   ---------------------------------------  15.6/15.6 MB 1.3 MB/s eta 0:00:01\n",
            "   ---------------------------------------- 15.6/15.6 MB 1.3 MB/s eta 0:00:00\n",
            "Downloading tenacity-8.2.3-py3-none-any.whl (24 kB)\n",
            "Installing collected packages: tenacity, plotly\n",
            "Successfully installed plotly-5.18.0 tenacity-8.2.3\n"
          ]
        }
      ],
      "source": [
        "v1 = []\n",
        "v2 = []\n",
        "for i in range (1,50):\n",
        "  v1.append(timeit.Timer(f\"sum_v1({i})\",globals=globals()).timeit())\n",
        "  v2.append(timeit.Timer(f\"sum_v2({i})\",globals=globals()).timeit())\n"
      ]
    },
    {
      "cell_type": "code",
      "execution_count": null,
      "metadata": {
        "colab": {
          "base_uri": "https://localhost:8080/",
          "height": 542
        },
        "id": "-YmMXLeGZdm4",
        "outputId": "f4f3bf72-4493-4d4e-8fe4-1b6549060a19"
      },
      "outputs": [
        {
          "name": "stdout",
          "output_type": "stream",
          "text": [
            "Requirement already satisfied: plotly in c:\\users\\winn\\appdata\\local\\packages\\pythonsoftwarefoundation.python.3.11_qbz5n2kfra8p0\\localcache\\local-packages\\python311\\site-packages (5.18.0)\n",
            "Requirement already satisfied: tenacity>=6.2.0 in c:\\users\\winn\\appdata\\local\\packages\\pythonsoftwarefoundation.python.3.11_qbz5n2kfra8p0\\localcache\\local-packages\\python311\\site-packages (from plotly) (8.2.3)\n",
            "Requirement already satisfied: packaging in c:\\users\\winn\\appdata\\local\\packages\\pythonsoftwarefoundation.python.3.11_qbz5n2kfra8p0\\localcache\\local-packages\\python311\\site-packages (from plotly) (23.2)\n",
            "Note: you may need to restart the kernel to use updated packages.\n"
          ]
        },
        {
          "ename": "ValueError",
          "evalue": "Mime type rendering requires nbformat>=4.2.0 but it is not installed",
          "output_type": "error",
          "traceback": [
            "\u001b[1;31m---------------------------------------------------------------------------\u001b[0m",
            "\u001b[1;31mValueError\u001b[0m                                Traceback (most recent call last)",
            "\u001b[1;32mg:\\Meu Drive\\Facul\\Teoria da Computação\\Teoria-da-Computacao\\code_samples\\c_digo.ipynb Célula 6\u001b[0m line \u001b[0;36m2\n\u001b[0;32m     <a href='vscode-notebook-cell:/g%3A/Meu%20Drive/Facul/Teoria%20da%20Computa%C3%A7%C3%A3o/Teoria-da-Computacao/code_samples/c_digo.ipynb#W5sZmlsZQ%3D%3D?line=12'>13</a>\u001b[0m fig\u001b[39m.\u001b[39madd_trace(\n\u001b[0;32m     <a href='vscode-notebook-cell:/g%3A/Meu%20Drive/Facul/Teoria%20da%20Computa%C3%A7%C3%A3o/Teoria-da-Computacao/code_samples/c_digo.ipynb#W5sZmlsZQ%3D%3D?line=13'>14</a>\u001b[0m     go\u001b[39m.\u001b[39mScatter(\n\u001b[0;32m     <a href='vscode-notebook-cell:/g%3A/Meu%20Drive/Facul/Teoria%20da%20Computa%C3%A7%C3%A3o/Teoria-da-Computacao/code_samples/c_digo.ipynb#W5sZmlsZQ%3D%3D?line=14'>15</a>\u001b[0m         x\u001b[39m=\u001b[39m\u001b[39mlist\u001b[39m(\u001b[39mrange\u001b[39m(\u001b[39m0\u001b[39m,\u001b[39m50\u001b[39m)),\n\u001b[1;32m   (...)\u001b[0m\n\u001b[0;32m     <a href='vscode-notebook-cell:/g%3A/Meu%20Drive/Facul/Teoria%20da%20Computa%C3%A7%C3%A3o/Teoria-da-Computacao/code_samples/c_digo.ipynb#W5sZmlsZQ%3D%3D?line=19'>20</a>\u001b[0m     )\n\u001b[0;32m     <a href='vscode-notebook-cell:/g%3A/Meu%20Drive/Facul/Teoria%20da%20Computa%C3%A7%C3%A3o/Teoria-da-Computacao/code_samples/c_digo.ipynb#W5sZmlsZQ%3D%3D?line=20'>21</a>\u001b[0m )\n\u001b[0;32m     <a href='vscode-notebook-cell:/g%3A/Meu%20Drive/Facul/Teoria%20da%20Computa%C3%A7%C3%A3o/Teoria-da-Computacao/code_samples/c_digo.ipynb#W5sZmlsZQ%3D%3D?line=21'>22</a>\u001b[0m fig\u001b[39m.\u001b[39mupdate_layout(plot_bgcolor\u001b[39m=\u001b[39m\u001b[39m'\u001b[39m\u001b[39mwhite\u001b[39m\u001b[39m'\u001b[39m)\n\u001b[1;32m---> <a href='vscode-notebook-cell:/g%3A/Meu%20Drive/Facul/Teoria%20da%20Computa%C3%A7%C3%A3o/Teoria-da-Computacao/code_samples/c_digo.ipynb#W5sZmlsZQ%3D%3D?line=23'>24</a>\u001b[0m fig\u001b[39m.\u001b[39;49mshow()\n",
            "File \u001b[1;32m~\\AppData\\Local\\Packages\\PythonSoftwareFoundation.Python.3.11_qbz5n2kfra8p0\\LocalCache\\local-packages\\Python311\\site-packages\\plotly\\basedatatypes.py:3410\u001b[0m, in \u001b[0;36mBaseFigure.show\u001b[1;34m(self, *args, **kwargs)\u001b[0m\n\u001b[0;32m   3377\u001b[0m \u001b[39m\u001b[39m\u001b[39m\"\"\"\u001b[39;00m\n\u001b[0;32m   3378\u001b[0m \u001b[39mShow a figure using either the default renderer(s) or the renderer(s)\u001b[39;00m\n\u001b[0;32m   3379\u001b[0m \u001b[39mspecified by the renderer argument\u001b[39;00m\n\u001b[1;32m   (...)\u001b[0m\n\u001b[0;32m   3406\u001b[0m \u001b[39mNone\u001b[39;00m\n\u001b[0;32m   3407\u001b[0m \u001b[39m\"\"\"\u001b[39;00m\n\u001b[0;32m   3408\u001b[0m \u001b[39mimport\u001b[39;00m \u001b[39mplotly\u001b[39;00m\u001b[39m.\u001b[39;00m\u001b[39mio\u001b[39;00m \u001b[39mas\u001b[39;00m \u001b[39mpio\u001b[39;00m\n\u001b[1;32m-> 3410\u001b[0m \u001b[39mreturn\u001b[39;00m pio\u001b[39m.\u001b[39;49mshow(\u001b[39mself\u001b[39;49m, \u001b[39m*\u001b[39;49margs, \u001b[39m*\u001b[39;49m\u001b[39m*\u001b[39;49mkwargs)\n",
            "File \u001b[1;32m~\\AppData\\Local\\Packages\\PythonSoftwareFoundation.Python.3.11_qbz5n2kfra8p0\\LocalCache\\local-packages\\Python311\\site-packages\\plotly\\io\\_renderers.py:394\u001b[0m, in \u001b[0;36mshow\u001b[1;34m(fig, renderer, validate, **kwargs)\u001b[0m\n\u001b[0;32m    389\u001b[0m         \u001b[39mraise\u001b[39;00m \u001b[39mValueError\u001b[39;00m(\n\u001b[0;32m    390\u001b[0m             \u001b[39m\"\u001b[39m\u001b[39mMime type rendering requires ipython but it is not installed\u001b[39m\u001b[39m\"\u001b[39m\n\u001b[0;32m    391\u001b[0m         )\n\u001b[0;32m    393\u001b[0m     \u001b[39mif\u001b[39;00m \u001b[39mnot\u001b[39;00m nbformat \u001b[39mor\u001b[39;00m Version(nbformat\u001b[39m.\u001b[39m__version__) \u001b[39m<\u001b[39m Version(\u001b[39m\"\u001b[39m\u001b[39m4.2.0\u001b[39m\u001b[39m\"\u001b[39m):\n\u001b[1;32m--> 394\u001b[0m         \u001b[39mraise\u001b[39;00m \u001b[39mValueError\u001b[39;00m(\n\u001b[0;32m    395\u001b[0m             \u001b[39m\"\u001b[39m\u001b[39mMime type rendering requires nbformat>=4.2.0 but it is not installed\u001b[39m\u001b[39m\"\u001b[39m\n\u001b[0;32m    396\u001b[0m         )\n\u001b[0;32m    398\u001b[0m     ipython_display\u001b[39m.\u001b[39mdisplay(bundle, raw\u001b[39m=\u001b[39m\u001b[39mTrue\u001b[39;00m)\n\u001b[0;32m    400\u001b[0m \u001b[39m# external renderers\u001b[39;00m\n",
            "\u001b[1;31mValueError\u001b[0m: Mime type rendering requires nbformat>=4.2.0 but it is not installed"
          ]
        }
      ],
      "source": [
        "%pip install plotly\n",
        "import plotly.graph_objects as go\n",
        "fig = go.Figure()\n",
        "fig.add_trace(\n",
        "    go.Scatter(\n",
        "        x=list(range(0,50)),\n",
        "        y=v1,\n",
        "        mode='lines',\n",
        "        line=dict(color='navy', width=2.5),\n",
        "        name='Versão com Laço'\n",
        "    )\n",
        ")\n",
        "fig.add_trace(\n",
        "    go.Scatter(\n",
        "        x=list(range(0,50)),\n",
        "        y=v2,\n",
        "        mode='lines',\n",
        "        line=dict(color='grey', width=1.5),\n",
        "        name='Versão Matemática',\n",
        "    )\n",
        ")\n",
        "fig.update_layout(plot_bgcolor='white')\n",
        "\n",
        "fig.show()"
      ]
    }
  ],
  "metadata": {
    "colab": {
      "include_colab_link": true,
      "provenance": []
    },
    "kernelspec": {
      "display_name": "Python 3",
      "name": "python3"
    },
    "language_info": {
      "codemirror_mode": {
        "name": "ipython",
        "version": 3
      },
      "file_extension": ".py",
      "mimetype": "text/x-python",
      "name": "python",
      "nbconvert_exporter": "python",
      "pygments_lexer": "ipython3",
      "version": "3.11.6"
    }
  },
  "nbformat": 4,
  "nbformat_minor": 0
}
